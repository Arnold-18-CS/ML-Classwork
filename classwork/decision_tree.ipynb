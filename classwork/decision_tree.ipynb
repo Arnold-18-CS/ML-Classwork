{
 "cells": [
  {
   "cell_type": "markdown",
   "id": "ef4f1293",
   "metadata": {},
   "source": [
    "# Decision Tree Classwork"
   ]
  },
  {
   "cell_type": "code",
   "execution_count": null,
   "id": "d1deb2c8",
   "metadata": {},
   "outputs": [],
   "source": [
    "from sklearn.tree import DecisionTreeClassifier\n",
    "from sklearn.datasets import load_breast_cancer\n"
   ]
  }
 ],
 "metadata": {
  "kernelspec": {
   "display_name": ".venv",
   "language": "python",
   "name": "python3"
  },
  "language_info": {
   "codemirror_mode": {
    "name": "ipython",
    "version": 3
   },
   "file_extension": ".py",
   "mimetype": "text/x-python",
   "name": "python",
   "nbconvert_exporter": "python",
   "pygments_lexer": "ipython3",
   "version": "3.13.3"
  }
 },
 "nbformat": 4,
 "nbformat_minor": 5
}
