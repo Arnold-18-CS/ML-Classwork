{
 "cells": [
  {
   "cell_type": "markdown",
   "id": "35a5ae1b",
   "metadata": {},
   "source": [
    "# Assignment 1 for Machine Learning Class"
   ]
  },
  {
   "cell_type": "markdown",
   "id": "c115f3a2",
   "metadata": {},
   "source": [
    "![Assignment Image](image.png)"
   ]
  },
  {
   "cell_type": "code",
   "execution_count": null,
   "id": "0ade4438",
   "metadata": {},
   "outputs": [],
   "source": [
    "import pandas as pd\n",
    "import numpy as np\n",
    "import matplotlib.pyplot as plt\n"
   ]
  },
  {
   "cell_type": "markdown",
   "id": "20c25c2b",
   "metadata": {},
   "source": [
    "## Qn 1: Political Parties in 2017"
   ]
  },
  {
   "cell_type": "code",
   "execution_count": 19,
   "id": "36bc3b95",
   "metadata": {},
   "outputs": [
    {
     "data": {
      "application/vnd.microsoft.datawrangler.viewer.v0+json": {
       "columns": [
        {
         "name": "index",
         "rawType": "int64",
         "type": "integer"
        },
        {
         "name": "no",
         "rawType": "int64",
         "type": "integer"
        },
        {
         "name": "candidate_name",
         "rawType": "object",
         "type": "string"
        },
        {
         "name": "political_party",
         "rawType": "object",
         "type": "string"
        },
        {
         "name": "valid_votes",
         "rawType": "object",
         "type": "string"
        }
       ],
       "ref": "024c8520-4062-47de-bb89-2b8a16e60246",
       "rows": [
        [
         "0",
         "1",
         "John Ekuru Longoggy Aukot ",
         "Thirdway Alliance Kenya",
         "27,311"
        ],
        [
         "1",
         "2",
         "Mohamed Abduba Dida",
         "Alliance For Real Change",
         "38,093"
        ],
        [
         "2",
         "3",
         "Shakhalaga Khwa Jirongo",
         "United Democratic Party",
         "11,705"
        ],
        [
         "3",
         "4",
         "Japheth Kavinga Kaluyu",
         "Independent1",
         "16,482"
        ],
        [
         "4",
         "5",
         "Uhuru Kenyatta ",
         "Jubilee Party",
         "8,203,290"
        ],
        [
         "5",
         "6",
         "Michael Wainaina Mwaura",
         "Independent2",
         "13,257"
        ],
        [
         "6",
         "7",
         "Joseph William Nthiga Nyagah",
         "Independent3",
         "42,259"
        ],
        [
         "7",
         "8",
         "Raila Odinga",
         "Orange Democratic Movement",
         "6,762,224"
        ]
       ],
       "shape": {
        "columns": 4,
        "rows": 8
       }
      },
      "text/html": [
       "<div>\n",
       "<style scoped>\n",
       "    .dataframe tbody tr th:only-of-type {\n",
       "        vertical-align: middle;\n",
       "    }\n",
       "\n",
       "    .dataframe tbody tr th {\n",
       "        vertical-align: top;\n",
       "    }\n",
       "\n",
       "    .dataframe thead th {\n",
       "        text-align: right;\n",
       "    }\n",
       "</style>\n",
       "<table border=\"1\" class=\"dataframe\">\n",
       "  <thead>\n",
       "    <tr style=\"text-align: right;\">\n",
       "      <th></th>\n",
       "      <th>no</th>\n",
       "      <th>candidate_name</th>\n",
       "      <th>political_party</th>\n",
       "      <th>valid_votes</th>\n",
       "    </tr>\n",
       "  </thead>\n",
       "  <tbody>\n",
       "    <tr>\n",
       "      <th>0</th>\n",
       "      <td>1</td>\n",
       "      <td>John Ekuru Longoggy Aukot</td>\n",
       "      <td>Thirdway Alliance Kenya</td>\n",
       "      <td>27,311</td>\n",
       "    </tr>\n",
       "    <tr>\n",
       "      <th>1</th>\n",
       "      <td>2</td>\n",
       "      <td>Mohamed Abduba Dida</td>\n",
       "      <td>Alliance For Real Change</td>\n",
       "      <td>38,093</td>\n",
       "    </tr>\n",
       "    <tr>\n",
       "      <th>2</th>\n",
       "      <td>3</td>\n",
       "      <td>Shakhalaga Khwa Jirongo</td>\n",
       "      <td>United Democratic Party</td>\n",
       "      <td>11,705</td>\n",
       "    </tr>\n",
       "    <tr>\n",
       "      <th>3</th>\n",
       "      <td>4</td>\n",
       "      <td>Japheth Kavinga Kaluyu</td>\n",
       "      <td>Independent1</td>\n",
       "      <td>16,482</td>\n",
       "    </tr>\n",
       "    <tr>\n",
       "      <th>4</th>\n",
       "      <td>5</td>\n",
       "      <td>Uhuru Kenyatta</td>\n",
       "      <td>Jubilee Party</td>\n",
       "      <td>8,203,290</td>\n",
       "    </tr>\n",
       "    <tr>\n",
       "      <th>5</th>\n",
       "      <td>6</td>\n",
       "      <td>Michael Wainaina Mwaura</td>\n",
       "      <td>Independent2</td>\n",
       "      <td>13,257</td>\n",
       "    </tr>\n",
       "    <tr>\n",
       "      <th>6</th>\n",
       "      <td>7</td>\n",
       "      <td>Joseph William Nthiga Nyagah</td>\n",
       "      <td>Independent3</td>\n",
       "      <td>42,259</td>\n",
       "    </tr>\n",
       "    <tr>\n",
       "      <th>7</th>\n",
       "      <td>8</td>\n",
       "      <td>Raila Odinga</td>\n",
       "      <td>Orange Democratic Movement</td>\n",
       "      <td>6,762,224</td>\n",
       "    </tr>\n",
       "  </tbody>\n",
       "</table>\n",
       "</div>"
      ],
      "text/plain": [
       "   no                candidate_name             political_party valid_votes\n",
       "0   1    John Ekuru Longoggy Aukot      Thirdway Alliance Kenya      27,311\n",
       "1   2           Mohamed Abduba Dida    Alliance For Real Change      38,093\n",
       "2   3       Shakhalaga Khwa Jirongo     United Democratic Party      11,705\n",
       "3   4        Japheth Kavinga Kaluyu                Independent1      16,482\n",
       "4   5               Uhuru Kenyatta                Jubilee Party   8,203,290\n",
       "5   6       Michael Wainaina Mwaura                Independent2      13,257\n",
       "6   7  Joseph William Nthiga Nyagah                Independent3      42,259\n",
       "7   8                  Raila Odinga  Orange Democratic Movement   6,762,224"
      ]
     },
     "execution_count": 19,
     "metadata": {},
     "output_type": "execute_result"
    }
   ],
   "source": [
    "df1 = pd.read_csv(\"../data/general_elections_2017.csv\")\n",
    "df1"
   ]
  },
  {
   "cell_type": "code",
   "execution_count": 20,
   "id": "b94d200a",
   "metadata": {},
   "outputs": [
    {
     "name": "stdout",
     "output_type": "stream",
     "text": [
      "<class 'pandas.core.frame.DataFrame'>\n",
      "RangeIndex: 8 entries, 0 to 7\n",
      "Data columns (total 4 columns):\n",
      " #   Column           Non-Null Count  Dtype \n",
      "---  ------           --------------  ----- \n",
      " 0   no               8 non-null      int64 \n",
      " 1   candidate_name   8 non-null      object\n",
      " 2   political_party  8 non-null      object\n",
      " 3   valid_votes      8 non-null      object\n",
      "dtypes: int64(1), object(3)\n",
      "memory usage: 388.0+ bytes\n"
     ]
    }
   ],
   "source": [
    "df1.info()"
   ]
  },
  {
   "cell_type": "code",
   "execution_count": 21,
   "id": "dd80b6f4",
   "metadata": {},
   "outputs": [
    {
     "data": {
      "application/vnd.microsoft.datawrangler.viewer.v0+json": {
       "columns": [
        {
         "name": "index",
         "rawType": "object",
         "type": "string"
        },
        {
         "name": "0",
         "rawType": "object",
         "type": "unknown"
        }
       ],
       "ref": "2ba93d96-ac8d-497d-8a40-ecd54e54f9e7",
       "rows": [
        [
         "no",
         "int64"
        ],
        [
         "candidate_name",
         "object"
        ],
        [
         "political_party",
         "object"
        ],
        [
         "valid_votes",
         "int64"
        ]
       ],
       "shape": {
        "columns": 1,
        "rows": 4
       }
      },
      "text/plain": [
       "no                  int64\n",
       "candidate_name     object\n",
       "political_party    object\n",
       "valid_votes         int64\n",
       "dtype: object"
      ]
     },
     "execution_count": 21,
     "metadata": {},
     "output_type": "execute_result"
    }
   ],
   "source": [
    "df1['valid_votes'] = df1['valid_votes'].str.replace(',', '').astype(int)\n",
    "df1.dtypes"
   ]
  },
  {
   "cell_type": "code",
   "execution_count": 22,
   "id": "70f8b35d",
   "metadata": {},
   "outputs": [
    {
     "data": {
      "application/vnd.microsoft.datawrangler.viewer.v0+json": {
       "columns": [
        {
         "name": "index",
         "rawType": "int64",
         "type": "integer"
        },
        {
         "name": "no",
         "rawType": "int64",
         "type": "integer"
        },
        {
         "name": "candidate_name",
         "rawType": "object",
         "type": "string"
        },
        {
         "name": "political_party",
         "rawType": "object",
         "type": "string"
        },
        {
         "name": "valid_votes",
         "rawType": "int64",
         "type": "integer"
        },
        {
         "name": "percentage_valid_votes",
         "rawType": "float64",
         "type": "float"
        }
       ],
       "ref": "59148a3c-f3a9-40bb-8bb5-0651fad1a2b2",
       "rows": [
        [
         "0",
         "1",
         "John Ekuru Longoggy Aukot ",
         "Thirdway Alliance Kenya",
         "27311",
         "0.18"
        ],
        [
         "1",
         "2",
         "Mohamed Abduba Dida",
         "Alliance For Real Change",
         "38093",
         "0.25"
        ],
        [
         "2",
         "3",
         "Shakhalaga Khwa Jirongo",
         "United Democratic Party",
         "11705",
         "0.08"
        ],
        [
         "3",
         "4",
         "Japheth Kavinga Kaluyu",
         "Independent1",
         "16482",
         "0.11"
        ],
        [
         "4",
         "5",
         "Uhuru Kenyatta ",
         "Jubilee Party",
         "8203290",
         "54.27"
        ],
        [
         "5",
         "6",
         "Michael Wainaina Mwaura",
         "Independent2",
         "13257",
         "0.09"
        ],
        [
         "6",
         "7",
         "Joseph William Nthiga Nyagah",
         "Independent3",
         "42259",
         "0.28"
        ],
        [
         "7",
         "8",
         "Raila Odinga",
         "Orange Democratic Movement",
         "6762224",
         "44.74"
        ]
       ],
       "shape": {
        "columns": 5,
        "rows": 8
       }
      },
      "text/html": [
       "<div>\n",
       "<style scoped>\n",
       "    .dataframe tbody tr th:only-of-type {\n",
       "        vertical-align: middle;\n",
       "    }\n",
       "\n",
       "    .dataframe tbody tr th {\n",
       "        vertical-align: top;\n",
       "    }\n",
       "\n",
       "    .dataframe thead th {\n",
       "        text-align: right;\n",
       "    }\n",
       "</style>\n",
       "<table border=\"1\" class=\"dataframe\">\n",
       "  <thead>\n",
       "    <tr style=\"text-align: right;\">\n",
       "      <th></th>\n",
       "      <th>no</th>\n",
       "      <th>candidate_name</th>\n",
       "      <th>political_party</th>\n",
       "      <th>valid_votes</th>\n",
       "      <th>percentage_valid_votes</th>\n",
       "    </tr>\n",
       "  </thead>\n",
       "  <tbody>\n",
       "    <tr>\n",
       "      <th>0</th>\n",
       "      <td>1</td>\n",
       "      <td>John Ekuru Longoggy Aukot</td>\n",
       "      <td>Thirdway Alliance Kenya</td>\n",
       "      <td>27311</td>\n",
       "      <td>0.18</td>\n",
       "    </tr>\n",
       "    <tr>\n",
       "      <th>1</th>\n",
       "      <td>2</td>\n",
       "      <td>Mohamed Abduba Dida</td>\n",
       "      <td>Alliance For Real Change</td>\n",
       "      <td>38093</td>\n",
       "      <td>0.25</td>\n",
       "    </tr>\n",
       "    <tr>\n",
       "      <th>2</th>\n",
       "      <td>3</td>\n",
       "      <td>Shakhalaga Khwa Jirongo</td>\n",
       "      <td>United Democratic Party</td>\n",
       "      <td>11705</td>\n",
       "      <td>0.08</td>\n",
       "    </tr>\n",
       "    <tr>\n",
       "      <th>3</th>\n",
       "      <td>4</td>\n",
       "      <td>Japheth Kavinga Kaluyu</td>\n",
       "      <td>Independent1</td>\n",
       "      <td>16482</td>\n",
       "      <td>0.11</td>\n",
       "    </tr>\n",
       "    <tr>\n",
       "      <th>4</th>\n",
       "      <td>5</td>\n",
       "      <td>Uhuru Kenyatta</td>\n",
       "      <td>Jubilee Party</td>\n",
       "      <td>8203290</td>\n",
       "      <td>54.27</td>\n",
       "    </tr>\n",
       "    <tr>\n",
       "      <th>5</th>\n",
       "      <td>6</td>\n",
       "      <td>Michael Wainaina Mwaura</td>\n",
       "      <td>Independent2</td>\n",
       "      <td>13257</td>\n",
       "      <td>0.09</td>\n",
       "    </tr>\n",
       "    <tr>\n",
       "      <th>6</th>\n",
       "      <td>7</td>\n",
       "      <td>Joseph William Nthiga Nyagah</td>\n",
       "      <td>Independent3</td>\n",
       "      <td>42259</td>\n",
       "      <td>0.28</td>\n",
       "    </tr>\n",
       "    <tr>\n",
       "      <th>7</th>\n",
       "      <td>8</td>\n",
       "      <td>Raila Odinga</td>\n",
       "      <td>Orange Democratic Movement</td>\n",
       "      <td>6762224</td>\n",
       "      <td>44.74</td>\n",
       "    </tr>\n",
       "  </tbody>\n",
       "</table>\n",
       "</div>"
      ],
      "text/plain": [
       "   no                candidate_name             political_party  valid_votes  \\\n",
       "0   1    John Ekuru Longoggy Aukot      Thirdway Alliance Kenya        27311   \n",
       "1   2           Mohamed Abduba Dida    Alliance For Real Change        38093   \n",
       "2   3       Shakhalaga Khwa Jirongo     United Democratic Party        11705   \n",
       "3   4        Japheth Kavinga Kaluyu                Independent1        16482   \n",
       "4   5               Uhuru Kenyatta                Jubilee Party      8203290   \n",
       "5   6       Michael Wainaina Mwaura                Independent2        13257   \n",
       "6   7  Joseph William Nthiga Nyagah                Independent3        42259   \n",
       "7   8                  Raila Odinga  Orange Democratic Movement      6762224   \n",
       "\n",
       "   percentage_valid_votes  \n",
       "0                    0.18  \n",
       "1                    0.25  \n",
       "2                    0.08  \n",
       "3                    0.11  \n",
       "4                   54.27  \n",
       "5                    0.09  \n",
       "6                    0.28  \n",
       "7                   44.74  "
      ]
     },
     "execution_count": 22,
     "metadata": {},
     "output_type": "execute_result"
    }
   ],
   "source": [
    "df1['percentage_valid_votes'] = df1['valid_votes'] / df1['valid_votes'].sum() * 100\n",
    "df1['percentage_valid_votes'] = df1['percentage_valid_votes'].round(2)\n",
    "df1"
   ]
  },
  {
   "cell_type": "markdown",
   "id": "6c40f10b",
   "metadata": {},
   "source": [
    "Classify those with less than 1% votes as others"
   ]
  },
  {
   "cell_type": "code",
   "execution_count": 23,
   "id": "c11fd71b",
   "metadata": {},
   "outputs": [
    {
     "data": {
      "application/vnd.microsoft.datawrangler.viewer.v0+json": {
       "columns": [
        {
         "name": "index",
         "rawType": "int64",
         "type": "integer"
        },
        {
         "name": "no",
         "rawType": "int64",
         "type": "integer"
        },
        {
         "name": "candidate_name",
         "rawType": "object",
         "type": "string"
        },
        {
         "name": "political_party",
         "rawType": "object",
         "type": "string"
        },
        {
         "name": "valid_votes",
         "rawType": "int64",
         "type": "integer"
        },
        {
         "name": "percentage_valid_votes",
         "rawType": "float64",
         "type": "float"
        }
       ],
       "ref": "434ac1bd-6cbd-4dfc-8b9d-873f98bb954c",
       "rows": [
        [
         "0",
         "1",
         "John Ekuru Longoggy Aukot ",
         "Others",
         "27311",
         "0.18"
        ],
        [
         "1",
         "2",
         "Mohamed Abduba Dida",
         "Others",
         "38093",
         "0.25"
        ],
        [
         "2",
         "3",
         "Shakhalaga Khwa Jirongo",
         "Others",
         "11705",
         "0.08"
        ],
        [
         "3",
         "4",
         "Japheth Kavinga Kaluyu",
         "Others",
         "16482",
         "0.11"
        ],
        [
         "4",
         "5",
         "Uhuru Kenyatta ",
         "Jubilee Party",
         "8203290",
         "54.27"
        ],
        [
         "5",
         "6",
         "Michael Wainaina Mwaura",
         "Others",
         "13257",
         "0.09"
        ],
        [
         "6",
         "7",
         "Joseph William Nthiga Nyagah",
         "Others",
         "42259",
         "0.28"
        ],
        [
         "7",
         "8",
         "Raila Odinga",
         "Orange Democratic Movement",
         "6762224",
         "44.74"
        ]
       ],
       "shape": {
        "columns": 5,
        "rows": 8
       }
      },
      "text/html": [
       "<div>\n",
       "<style scoped>\n",
       "    .dataframe tbody tr th:only-of-type {\n",
       "        vertical-align: middle;\n",
       "    }\n",
       "\n",
       "    .dataframe tbody tr th {\n",
       "        vertical-align: top;\n",
       "    }\n",
       "\n",
       "    .dataframe thead th {\n",
       "        text-align: right;\n",
       "    }\n",
       "</style>\n",
       "<table border=\"1\" class=\"dataframe\">\n",
       "  <thead>\n",
       "    <tr style=\"text-align: right;\">\n",
       "      <th></th>\n",
       "      <th>no</th>\n",
       "      <th>candidate_name</th>\n",
       "      <th>political_party</th>\n",
       "      <th>valid_votes</th>\n",
       "      <th>percentage_valid_votes</th>\n",
       "    </tr>\n",
       "  </thead>\n",
       "  <tbody>\n",
       "    <tr>\n",
       "      <th>0</th>\n",
       "      <td>1</td>\n",
       "      <td>John Ekuru Longoggy Aukot</td>\n",
       "      <td>Others</td>\n",
       "      <td>27311</td>\n",
       "      <td>0.18</td>\n",
       "    </tr>\n",
       "    <tr>\n",
       "      <th>1</th>\n",
       "      <td>2</td>\n",
       "      <td>Mohamed Abduba Dida</td>\n",
       "      <td>Others</td>\n",
       "      <td>38093</td>\n",
       "      <td>0.25</td>\n",
       "    </tr>\n",
       "    <tr>\n",
       "      <th>2</th>\n",
       "      <td>3</td>\n",
       "      <td>Shakhalaga Khwa Jirongo</td>\n",
       "      <td>Others</td>\n",
       "      <td>11705</td>\n",
       "      <td>0.08</td>\n",
       "    </tr>\n",
       "    <tr>\n",
       "      <th>3</th>\n",
       "      <td>4</td>\n",
       "      <td>Japheth Kavinga Kaluyu</td>\n",
       "      <td>Others</td>\n",
       "      <td>16482</td>\n",
       "      <td>0.11</td>\n",
       "    </tr>\n",
       "    <tr>\n",
       "      <th>4</th>\n",
       "      <td>5</td>\n",
       "      <td>Uhuru Kenyatta</td>\n",
       "      <td>Jubilee Party</td>\n",
       "      <td>8203290</td>\n",
       "      <td>54.27</td>\n",
       "    </tr>\n",
       "    <tr>\n",
       "      <th>5</th>\n",
       "      <td>6</td>\n",
       "      <td>Michael Wainaina Mwaura</td>\n",
       "      <td>Others</td>\n",
       "      <td>13257</td>\n",
       "      <td>0.09</td>\n",
       "    </tr>\n",
       "    <tr>\n",
       "      <th>6</th>\n",
       "      <td>7</td>\n",
       "      <td>Joseph William Nthiga Nyagah</td>\n",
       "      <td>Others</td>\n",
       "      <td>42259</td>\n",
       "      <td>0.28</td>\n",
       "    </tr>\n",
       "    <tr>\n",
       "      <th>7</th>\n",
       "      <td>8</td>\n",
       "      <td>Raila Odinga</td>\n",
       "      <td>Orange Democratic Movement</td>\n",
       "      <td>6762224</td>\n",
       "      <td>44.74</td>\n",
       "    </tr>\n",
       "  </tbody>\n",
       "</table>\n",
       "</div>"
      ],
      "text/plain": [
       "   no                candidate_name             political_party  valid_votes  \\\n",
       "0   1    John Ekuru Longoggy Aukot                       Others        27311   \n",
       "1   2           Mohamed Abduba Dida                      Others        38093   \n",
       "2   3       Shakhalaga Khwa Jirongo                      Others        11705   \n",
       "3   4        Japheth Kavinga Kaluyu                      Others        16482   \n",
       "4   5               Uhuru Kenyatta                Jubilee Party      8203290   \n",
       "5   6       Michael Wainaina Mwaura                      Others        13257   \n",
       "6   7  Joseph William Nthiga Nyagah                      Others        42259   \n",
       "7   8                  Raila Odinga  Orange Democratic Movement      6762224   \n",
       "\n",
       "   percentage_valid_votes  \n",
       "0                    0.18  \n",
       "1                    0.25  \n",
       "2                    0.08  \n",
       "3                    0.11  \n",
       "4                   54.27  \n",
       "5                    0.09  \n",
       "6                    0.28  \n",
       "7                   44.74  "
      ]
     },
     "execution_count": 23,
     "metadata": {},
     "output_type": "execute_result"
    }
   ],
   "source": [
    "df1.loc[df1['percentage_valid_votes'] < 1, 'political_party'] = 'Others'\n",
    "df1"
   ]
  },
  {
   "cell_type": "code",
   "execution_count": 24,
   "id": "ea3b0353",
   "metadata": {},
   "outputs": [
    {
     "data": {
      "image/png": "[encoded data removed]",
      "text/plain": [
       "<Figure size 1000x600 with 1 Axes>"
      ]
     },
     "metadata": {},
     "output_type": "display_data"
    }
   ],
   "source": [
    "plt.figure(figsize=(10, 6))\n",
    "\n",
    "# Group by political party and sum the percentages\n",
    "grouped = df1.groupby('political_party')['percentage_valid_votes'].sum()\n",
    "\n",
    "# Plot the pie chart\n",
    "plt.pie(grouped, labels=grouped.index, autopct='%1.1f%%', startangle=150)\n",
    "plt.axis('equal')  # Equal asp\n",
    "plt.title('Percentage of Valid Votes by Political Party')\n",
    "plt.show()"
   ]
  },
  {
   "cell_type": "markdown",
   "id": "0177f41d",
   "metadata": {},
   "source": [
    "## Qn 2: Fibonnaci numbers"
   ]
  },
  {
   "cell_type": "code",
   "execution_count": 25,
   "id": "c38d9f64",
   "metadata": {},
   "outputs": [
    {
     "data": {
      "image/png": "[encoded data removed]",
      "text/plain": [
       "<Figure size 800x500 with 1 Axes>"
      ]
     },
     "metadata": {},
     "output_type": "display_data"
    }
   ],
   "source": [
    "fibonacci = [0, 1]\n",
    "for i in range(2, 10):\n",
    "    fibonacci.append(fibonacci[-1] + fibonacci[-2])\n",
    "\n",
    "# Plot\n",
    "plt.figure(figsize=(8, 5))\n",
    "\n",
    "plt.plot(range(10), fibonacci, marker='o', linestyle='-')\n",
    "plt.title('First 10 Fibonacci Numbers')\n",
    "plt.xlabel('Index')\n",
    "plt.ylabel('Fibonacci Number')\n",
    "plt.grid(True)\n",
    "plt.show()"
   ]
  },
  {
   "cell_type": "markdown",
   "id": "2209d926",
   "metadata": {},
   "source": [
    "## Qn 3: Total profit"
   ]
  },
  {
   "cell_type": "code",
   "execution_count": 26,
   "id": "970aefb0",
   "metadata": {},
   "outputs": [
    {
     "data": {
      "application/vnd.microsoft.datawrangler.viewer.v0+json": {
       "columns": [
        {
         "name": "index",
         "rawType": "int64",
         "type": "integer"
        },
        {
         "name": "Month",
         "rawType": "object",
         "type": "string"
        },
        {
         "name": "Total Profit",
         "rawType": "int64",
         "type": "integer"
        }
       ],
       "ref": "fc405591-8e9f-4e61-b467-76cfc50e379f",
       "rows": [
        [
         "0",
         "January",
         "5500"
        ],
        [
         "1",
         "February",
         "6200"
        ],
        [
         "2",
         "March",
         "7100"
        ],
        [
         "3",
         "April",
         "6800"
        ],
        [
         "4",
         "May",
         "7500"
        ]
       ],
       "shape": {
        "columns": 2,
        "rows": 5
       }
      },
      "text/html": [
       "<div>\n",
       "<style scoped>\n",
       "    .dataframe tbody tr th:only-of-type {\n",
       "        vertical-align: middle;\n",
       "    }\n",
       "\n",
       "    .dataframe tbody tr th {\n",
       "        vertical-align: top;\n",
       "    }\n",
       "\n",
       "    .dataframe thead th {\n",
       "        text-align: right;\n",
       "    }\n",
       "</style>\n",
       "<table border=\"1\" class=\"dataframe\">\n",
       "  <thead>\n",
       "    <tr style=\"text-align: right;\">\n",
       "      <th></th>\n",
       "      <th>Month</th>\n",
       "      <th>Total Profit</th>\n",
       "    </tr>\n",
       "  </thead>\n",
       "  <tbody>\n",
       "    <tr>\n",
       "      <th>0</th>\n",
       "      <td>January</td>\n",
       "      <td>5500</td>\n",
       "    </tr>\n",
       "    <tr>\n",
       "      <th>1</th>\n",
       "      <td>February</td>\n",
       "      <td>6200</td>\n",
       "    </tr>\n",
       "    <tr>\n",
       "      <th>2</th>\n",
       "      <td>March</td>\n",
       "      <td>7100</td>\n",
       "    </tr>\n",
       "    <tr>\n",
       "      <th>3</th>\n",
       "      <td>April</td>\n",
       "      <td>6800</td>\n",
       "    </tr>\n",
       "    <tr>\n",
       "      <th>4</th>\n",
       "      <td>May</td>\n",
       "      <td>7500</td>\n",
       "    </tr>\n",
       "  </tbody>\n",
       "</table>\n",
       "</div>"
      ],
      "text/plain": [
       "      Month  Total Profit\n",
       "0   January          5500\n",
       "1  February          6200\n",
       "2     March          7100\n",
       "3     April          6800\n",
       "4       May          7500"
      ]
     },
     "execution_count": 26,
     "metadata": {},
     "output_type": "execute_result"
    }
   ],
   "source": [
    "df2 = pd.read_csv(\"../data/monthly_profits.csv\")\n",
    "df2.head()"
   ]
  },
  {
   "cell_type": "code",
   "execution_count": 27,
   "id": "6c9488f8",
   "metadata": {},
   "outputs": [
    {
     "data": {
      "image/png": "[encoded data removed]",
      "text/plain": [
       "<Figure size 1000x600 with 1 Axes>"
      ]
     },
     "metadata": {},
     "output_type": "display_data"
    }
   ],
   "source": [
    "plt.figure(figsize=(10, 6))\n",
    "\n",
    "# Plot the line chart\n",
    "plt.plot(df2['Month'], df2['Total Profit'], marker='o', linestyle='-')\n",
    "plt.title('Monthly Profits')\n",
    "plt.xlabel('Month')\n",
    "plt.ylabel('Profit')\n",
    "plt.grid(True)\n",
    "plt.tight_layout()\n",
    "plt.show()"
   ]
  },
  {
   "cell_type": "markdown",
   "id": "d4638584",
   "metadata": {},
   "source": [
    "## Qn 4: Units sold per product"
   ]
  },
  {
   "cell_type": "code",
   "execution_count": 28,
   "id": "c4834737",
   "metadata": {},
   "outputs": [
    {
     "data": {
      "application/vnd.microsoft.datawrangler.viewer.v0+json": {
       "columns": [
        {
         "name": "index",
         "rawType": "int64",
         "type": "integer"
        },
        {
         "name": "month_number",
         "rawType": "int64",
         "type": "integer"
        },
        {
         "name": "facecream",
         "rawType": "int64",
         "type": "integer"
        },
        {
         "name": "facewash",
         "rawType": "int64",
         "type": "integer"
        },
        {
         "name": "toothpaste",
         "rawType": "int64",
         "type": "integer"
        },
        {
         "name": "bathingsoap",
         "rawType": "int64",
         "type": "integer"
        },
        {
         "name": "shampoo",
         "rawType": "int64",
         "type": "integer"
        },
        {
         "name": "moisturizer",
         "rawType": "int64",
         "type": "integer"
        },
        {
         "name": "total_units",
         "rawType": "int64",
         "type": "integer"
        },
        {
         "name": "total_profit",
         "rawType": "int64",
         "type": "integer"
        }
       ],
       "ref": "14af45d5-c56b-4205-914b-179ed4a8507c",
       "rows": [
        [
         "0",
         "1",
         "2500",
         "1500",
         "5200",
         "9200",
         "1200",
         "1500",
         "21100",
         "211000"
        ],
        [
         "1",
         "2",
         "2630",
         "1200",
         "5100",
         "6100",
         "2100",
         "1200",
         "18330",
         "183300"
        ],
        [
         "2",
         "3",
         "2140",
         "1340",
         "4550",
         "9550",
         "3550",
         "1340",
         "22470",
         "224700"
        ],
        [
         "3",
         "4",
         "3400",
         "1130",
         "5870",
         "8870",
         "1870",
         "1130",
         "22270",
         "222700"
        ],
        [
         "4",
         "5",
         "3600",
         "1740",
         "4560",
         "7760",
         "1560",
         "1740",
         "20960",
         "209600"
        ],
        [
         "5",
         "6",
         "2760",
         "1555",
         "4890",
         "7490",
         "1890",
         "1555",
         "20140",
         "201400"
        ],
        [
         "6",
         "7",
         "2980",
         "1120",
         "4780",
         "8980",
         "1780",
         "1120",
         "29550",
         "295500"
        ],
        [
         "7",
         "8",
         "3700",
         "1400",
         "5860",
         "9960",
         "2860",
         "1400",
         "36140",
         "361400"
        ],
        [
         "8",
         "9",
         "3540",
         "1780",
         "6100",
         "8100",
         "2100",
         "1780",
         "23400",
         "234000"
        ],
        [
         "9",
         "10",
         "1990",
         "1890",
         "8300",
         "10300",
         "2300",
         "1890",
         "26670",
         "266700"
        ],
        [
         "10",
         "11",
         "2340",
         "2100",
         "7300",
         "13300",
         "2400",
         "2100",
         "41280",
         "412800"
        ],
        [
         "11",
         "12",
         "2900",
         "1760",
         "7400",
         "14400",
         "1800",
         "1760",
         "30020",
         "300200"
        ]
       ],
       "shape": {
        "columns": 9,
        "rows": 12
       }
      },
      "text/html": [
       "<div>\n",
       "<style scoped>\n",
       "    .dataframe tbody tr th:only-of-type {\n",
       "        vertical-align: middle;\n",
       "    }\n",
       "\n",
       "    .dataframe tbody tr th {\n",
       "        vertical-align: top;\n",
       "    }\n",
       "\n",
       "    .dataframe thead th {\n",
       "        text-align: right;\n",
       "    }\n",
       "</style>\n",
       "<table border=\"1\" class=\"dataframe\">\n",
       "  <thead>\n",
       "    <tr style=\"text-align: right;\">\n",
       "      <th></th>\n",
       "      <th>month_number</th>\n",
       "      <th>facecream</th>\n",
       "      <th>facewash</th>\n",
       "      <th>toothpaste</th>\n",
       "      <th>bathingsoap</th>\n",
       "      <th>shampoo</th>\n",
       "      <th>moisturizer</th>\n",
       "      <th>total_units</th>\n",
       "      <th>total_profit</th>\n",
       "    </tr>\n",
       "  </thead>\n",
       "  <tbody>\n",
       "    <tr>\n",
       "      <th>0</th>\n",
       "      <td>1</td>\n",
       "      <td>2500</td>\n",
       "      <td>1500</td>\n",
       "      <td>5200</td>\n",
       "      <td>9200</td>\n",
       "      <td>1200</td>\n",
       "      <td>1500</td>\n",
       "      <td>21100</td>\n",
       "      <td>211000</td>\n",
       "    </tr>\n",
       "    <tr>\n",
       "      <th>1</th>\n",
       "      <td>2</td>\n",
       "      <td>2630</td>\n",
       "      <td>1200</td>\n",
       "      <td>5100</td>\n",
       "      <td>6100</td>\n",
       "      <td>2100</td>\n",
       "      <td>1200</td>\n",
       "      <td>18330</td>\n",
       "      <td>183300</td>\n",
       "    </tr>\n",
       "    <tr>\n",
       "      <th>2</th>\n",
       "      <td>3</td>\n",
       "      <td>2140</td>\n",
       "      <td>1340</td>\n",
       "      <td>4550</td>\n",
       "      <td>9550</td>\n",
       "      <td>3550</td>\n",
       "      <td>1340</td>\n",
       "      <td>22470</td>\n",
       "      <td>224700</td>\n",
       "    </tr>\n",
       "    <tr>\n",
       "      <th>3</th>\n",
       "      <td>4</td>\n",
       "      <td>3400</td>\n",
       "      <td>1130</td>\n",
       "      <td>5870</td>\n",
       "      <td>8870</td>\n",
       "      <td>1870</td>\n",
       "      <td>1130</td>\n",
       "      <td>22270</td>\n",
       "      <td>222700</td>\n",
       "    </tr>\n",
       "    <tr>\n",
       "      <th>4</th>\n",
       "      <td>5</td>\n",
       "      <td>3600</td>\n",
       "      <td>1740</td>\n",
       "      <td>4560</td>\n",
       "      <td>7760</td>\n",
       "      <td>1560</td>\n",
       "      <td>1740</td>\n",
       "      <td>20960</td>\n",
       "      <td>209600</td>\n",
       "    </tr>\n",
       "    <tr>\n",
       "      <th>5</th>\n",
       "      <td>6</td>\n",
       "      <td>2760</td>\n",
       "      <td>1555</td>\n",
       "      <td>4890</td>\n",
       "      <td>7490</td>\n",
       "      <td>1890</td>\n",
       "      <td>1555</td>\n",
       "      <td>20140</td>\n",
       "      <td>201400</td>\n",
       "    </tr>\n",
       "    <tr>\n",
       "      <th>6</th>\n",
       "      <td>7</td>\n",
       "      <td>2980</td>\n",
       "      <td>1120</td>\n",
       "      <td>4780</td>\n",
       "      <td>8980</td>\n",
       "      <td>1780</td>\n",
       "      <td>1120</td>\n",
       "      <td>29550</td>\n",
       "      <td>295500</td>\n",
       "    </tr>\n",
       "    <tr>\n",
       "      <th>7</th>\n",
       "      <td>8</td>\n",
       "      <td>3700</td>\n",
       "      <td>1400</td>\n",
       "      <td>5860</td>\n",
       "      <td>9960</td>\n",
       "      <td>2860</td>\n",
       "      <td>1400</td>\n",
       "      <td>36140</td>\n",
       "      <td>361400</td>\n",
       "    </tr>\n",
       "    <tr>\n",
       "      <th>8</th>\n",
       "      <td>9</td>\n",
       "      <td>3540</td>\n",
       "      <td>1780</td>\n",
       "      <td>6100</td>\n",
       "      <td>8100</td>\n",
       "      <td>2100</td>\n",
       "      <td>1780</td>\n",
       "      <td>23400</td>\n",
       "      <td>234000</td>\n",
       "    </tr>\n",
       "    <tr>\n",
       "      <th>9</th>\n",
       "      <td>10</td>\n",
       "      <td>1990</td>\n",
       "      <td>1890</td>\n",
       "      <td>8300</td>\n",
       "      <td>10300</td>\n",
       "      <td>2300</td>\n",
       "      <td>1890</td>\n",
       "      <td>26670</td>\n",
       "      <td>266700</td>\n",
       "    </tr>\n",
       "    <tr>\n",
       "      <th>10</th>\n",
       "      <td>11</td>\n",
       "      <td>2340</td>\n",
       "      <td>2100</td>\n",
       "      <td>7300</td>\n",
       "      <td>13300</td>\n",
       "      <td>2400</td>\n",
       "      <td>2100</td>\n",
       "      <td>41280</td>\n",
       "      <td>412800</td>\n",
       "    </tr>\n",
       "    <tr>\n",
       "      <th>11</th>\n",
       "      <td>12</td>\n",
       "      <td>2900</td>\n",
       "      <td>1760</td>\n",
       "      <td>7400</td>\n",
       "      <td>14400</td>\n",
       "      <td>1800</td>\n",
       "      <td>1760</td>\n",
       "      <td>30020</td>\n",
       "      <td>300200</td>\n",
       "    </tr>\n",
       "  </tbody>\n",
       "</table>\n",
       "</div>"
      ],
      "text/plain": [
       "    month_number  facecream  facewash  toothpaste  bathingsoap  shampoo  \\\n",
       "0              1       2500      1500        5200         9200     1200   \n",
       "1              2       2630      1200        5100         6100     2100   \n",
       "2              3       2140      1340        4550         9550     3550   \n",
       "3              4       3400      1130        5870         8870     1870   \n",
       "4              5       3600      1740        4560         7760     1560   \n",
       "5              6       2760      1555        4890         7490     1890   \n",
       "6              7       2980      1120        4780         8980     1780   \n",
       "7              8       3700      1400        5860         9960     2860   \n",
       "8              9       3540      1780        6100         8100     2100   \n",
       "9             10       1990      1890        8300        10300     2300   \n",
       "10            11       2340      2100        7300        13300     2400   \n",
       "11            12       2900      1760        7400        14400     1800   \n",
       "\n",
       "    moisturizer  total_units  total_profit  \n",
       "0          1500        21100        211000  \n",
       "1          1200        18330        183300  \n",
       "2          1340        22470        224700  \n",
       "3          1130        22270        222700  \n",
       "4          1740        20960        209600  \n",
       "5          1555        20140        201400  \n",
       "6          1120        29550        295500  \n",
       "7          1400        36140        361400  \n",
       "8          1780        23400        234000  \n",
       "9          1890        26670        266700  \n",
       "10         2100        41280        412800  \n",
       "11         1760        30020        300200  "
      ]
     },
     "execution_count": 28,
     "metadata": {},
     "output_type": "execute_result"
    }
   ],
   "source": [
    "df3 = pd.read_csv(\"../data/company_sales_data.csv\")\n",
    "df3"
   ]
  },
  {
   "cell_type": "code",
   "execution_count": 29,
   "id": "3407691a",
   "metadata": {},
   "outputs": [
    {
     "name": "stdout",
     "output_type": "stream",
     "text": [
      "facecream       34480\n",
      "facewash        18515\n",
      "toothpaste      69910\n",
      "bathingsoap    114010\n",
      "shampoo         25410\n",
      "moisturizer     18515\n",
      "dtype: int64\n"
     ]
    },
    {
     "data": {
      "image/png": "[encoded data removed]",
      "text/plain": [
       "<Figure size 1000x600 with 1 Axes>"
      ]
     },
     "metadata": {},
     "output_type": "display_data"
    }
   ],
   "source": [
    "# Sum total units sold per product\n",
    "product_totals = df3[['facecream', 'facewash', 'toothpaste', 'bathingsoap', 'shampoo', 'moisturizer']].sum()\n",
    "print(product_totals)\n",
    "# Plot\n",
    "plt.figure(figsize=(10, 6))\n",
    "product_totals.plot(kind='bar')\n",
    "\n",
    "plt.title('Total Units Sold Per Product')\n",
    "plt.xlabel('Product')\n",
    "plt.ylabel('Total Units Sold')\n",
    "plt.xticks(rotation=45)\n",
    "plt.tight_layout()\n",
    "plt.show()"
   ]
  },
  {
   "cell_type": "markdown",
   "id": "06278f7b",
   "metadata": {},
   "source": [
    "## Qn 6: Facecream and Facewash sales"
   ]
  },
  {
   "cell_type": "code",
   "execution_count": 30,
   "id": "33e9cc99",
   "metadata": {},
   "outputs": [
    {
     "data": {
      "image/png": "[encoded data removed]",
      "text/plain": [
       "<Figure size 1000x600 with 1 Axes>"
      ]
     },
     "metadata": {},
     "output_type": "display_data"
    }
   ],
   "source": [
    "# Extract facecream and facewash sales data\n",
    "facecream_facewash = df3[['month_number', 'facecream', 'facewash']]\n",
    "\n",
    "# Plot\n",
    "plt.figure(figsize=(10, 6))\n",
    "plt.bar(facecream_facewash['month_number'] - 0.2, facecream_facewash['facecream'], width=0.4, label='Facecream', color='blue')\n",
    "plt.bar(facecream_facewash['month_number'] + 0.2, facecream_facewash['facewash'], width=0.4, label='Facewash', color='orange')\n",
    "\n",
    "plt.title('Facecream and Facewash Sales')\n",
    "plt.xlabel('Month Number')\n",
    "plt.ylabel('Units Sold')\n",
    "plt.xticks(facecream_facewash['month_number'])\n",
    "plt.legend()\n",
    "plt.tight_layout()\n",
    "plt.show()"
   ]
  },
  {
   "cell_type": "code",
   "execution_count": null,
   "id": "9a3213db",
   "metadata": {},
   "outputs": [],
   "source": []
  }
 ],
 "metadata": {
  "kernelspec": {
   "display_name": ".venv",
   "language": "python",
   "name": "python3"
  },
  "language_info": {
   "codemirror_mode": {
    "name": "ipython",
    "version": 3
   },
   "file_extension": ".py",
   "mimetype": "text/x-python",
   "name": "python",
   "nbconvert_exporter": "python",
   "pygments_lexer": "ipython3",
   "version": "3.13.3"
  }
 },
 "nbformat": 4,
 "nbformat_minor": 5
}
