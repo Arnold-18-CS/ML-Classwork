{
 "cells": [
  {
   "cell_type": "markdown",
   "id": "e98f46a7",
   "metadata": {},
   "source": [
    "## Assignment 2"
   ]
  },
  {
   "cell_type": "markdown",
   "id": "f6c132cf",
   "metadata": {},
   "source": [
    "![Question1](classwork1.png)"
   ]
  },
  {
   "cell_type": "code",
   "execution_count": 1,
   "id": "79bfcc7e",
   "metadata": {},
   "outputs": [],
   "source": [
    "import numpy as np\n",
    "import pandas as pd\n",
    "from sklearn.linear_model import LinearRegression"
   ]
  },
  {
   "cell_type": "code",
   "execution_count": 2,
   "id": "2f91d5b3",
   "metadata": {},
   "outputs": [
    {
     "data": {
      "application/vnd.microsoft.datawrangler.viewer.v0+json": {
       "columns": [
        {
         "name": "index",
         "rawType": "int64",
         "type": "integer"
        },
        {
         "name": "oil",
         "rawType": "float64",
         "type": "float"
        },
        {
         "name": "temp",
         "rawType": "int64",
         "type": "integer"
        },
        {
         "name": "insulation",
         "rawType": "int64",
         "type": "integer"
        }
       ],
       "ref": "a941a33b-b606-4c89-b713-ee709dec5255",
       "rows": [
        [
         "0",
         "275.3",
         "40",
         "3"
        ],
        [
         "1",
         "363.8",
         "27",
         "3"
        ],
        [
         "2",
         "164.3",
         "40",
         "10"
        ],
        [
         "3",
         "40.8",
         "73",
         "6"
        ],
        [
         "4",
         "94.3",
         "64",
         "6"
        ],
        [
         "5",
         "230.9",
         "34",
         "6"
        ],
        [
         "6",
         "366.7",
         "9",
         "6"
        ],
        [
         "7",
         "300.6",
         "8",
         "10"
        ],
        [
         "8",
         "237.8",
         "23",
         "10"
        ],
        [
         "9",
         "121.4",
         "63",
         "3"
        ],
        [
         "10",
         "31.4",
         "65",
         "10"
        ],
        [
         "11",
         "203.5",
         "41",
         "6"
        ],
        [
         "12",
         "441.1",
         "21",
         "3"
        ],
        [
         "13",
         "323.0",
         "38",
         "3"
        ],
        [
         "14",
         "52.5",
         "58",
         "10"
        ]
       ],
       "shape": {
        "columns": 3,
        "rows": 15
       }
      },
      "text/html": [
       "<div>\n",
       "<style scoped>\n",
       "    .dataframe tbody tr th:only-of-type {\n",
       "        vertical-align: middle;\n",
       "    }\n",
       "\n",
       "    .dataframe tbody tr th {\n",
       "        vertical-align: top;\n",
       "    }\n",
       "\n",
       "    .dataframe thead th {\n",
       "        text-align: right;\n",
       "    }\n",
       "</style>\n",
       "<table border=\"1\" class=\"dataframe\">\n",
       "  <thead>\n",
       "    <tr style=\"text-align: right;\">\n",
       "      <th></th>\n",
       "      <th>oil</th>\n",
       "      <th>temp</th>\n",
       "      <th>insulation</th>\n",
       "    </tr>\n",
       "  </thead>\n",
       "  <tbody>\n",
       "    <tr>\n",
       "      <th>0</th>\n",
       "      <td>275.3</td>\n",
       "      <td>40</td>\n",
       "      <td>3</td>\n",
       "    </tr>\n",
       "    <tr>\n",
       "      <th>1</th>\n",
       "      <td>363.8</td>\n",
       "      <td>27</td>\n",
       "      <td>3</td>\n",
       "    </tr>\n",
       "    <tr>\n",
       "      <th>2</th>\n",
       "      <td>164.3</td>\n",
       "      <td>40</td>\n",
       "      <td>10</td>\n",
       "    </tr>\n",
       "    <tr>\n",
       "      <th>3</th>\n",
       "      <td>40.8</td>\n",
       "      <td>73</td>\n",
       "      <td>6</td>\n",
       "    </tr>\n",
       "    <tr>\n",
       "      <th>4</th>\n",
       "      <td>94.3</td>\n",
       "      <td>64</td>\n",
       "      <td>6</td>\n",
       "    </tr>\n",
       "    <tr>\n",
       "      <th>5</th>\n",
       "      <td>230.9</td>\n",
       "      <td>34</td>\n",
       "      <td>6</td>\n",
       "    </tr>\n",
       "    <tr>\n",
       "      <th>6</th>\n",
       "      <td>366.7</td>\n",
       "      <td>9</td>\n",
       "      <td>6</td>\n",
       "    </tr>\n",
       "    <tr>\n",
       "      <th>7</th>\n",
       "      <td>300.6</td>\n",
       "      <td>8</td>\n",
       "      <td>10</td>\n",
       "    </tr>\n",
       "    <tr>\n",
       "      <th>8</th>\n",
       "      <td>237.8</td>\n",
       "      <td>23</td>\n",
       "      <td>10</td>\n",
       "    </tr>\n",
       "    <tr>\n",
       "      <th>9</th>\n",
       "      <td>121.4</td>\n",
       "      <td>63</td>\n",
       "      <td>3</td>\n",
       "    </tr>\n",
       "    <tr>\n",
       "      <th>10</th>\n",
       "      <td>31.4</td>\n",
       "      <td>65</td>\n",
       "      <td>10</td>\n",
       "    </tr>\n",
       "    <tr>\n",
       "      <th>11</th>\n",
       "      <td>203.5</td>\n",
       "      <td>41</td>\n",
       "      <td>6</td>\n",
       "    </tr>\n",
       "    <tr>\n",
       "      <th>12</th>\n",
       "      <td>441.1</td>\n",
       "      <td>21</td>\n",
       "      <td>3</td>\n",
       "    </tr>\n",
       "    <tr>\n",
       "      <th>13</th>\n",
       "      <td>323.0</td>\n",
       "      <td>38</td>\n",
       "      <td>3</td>\n",
       "    </tr>\n",
       "    <tr>\n",
       "      <th>14</th>\n",
       "      <td>52.5</td>\n",
       "      <td>58</td>\n",
       "      <td>10</td>\n",
       "    </tr>\n",
       "  </tbody>\n",
       "</table>\n",
       "</div>"
      ],
      "text/plain": [
       "      oil  temp  insulation\n",
       "0   275.3    40           3\n",
       "1   363.8    27           3\n",
       "2   164.3    40          10\n",
       "3    40.8    73           6\n",
       "4    94.3    64           6\n",
       "5   230.9    34           6\n",
       "6   366.7     9           6\n",
       "7   300.6     8          10\n",
       "8   237.8    23          10\n",
       "9   121.4    63           3\n",
       "10   31.4    65          10\n",
       "11  203.5    41           6\n",
       "12  441.1    21           3\n",
       "13  323.0    38           3\n",
       "14   52.5    58          10"
      ]
     },
     "execution_count": 2,
     "metadata": {},
     "output_type": "execute_result"
    }
   ],
   "source": [
    "oil_data = np.array([275.30, 363.80, 164.30, 40.80, 94.30, 230.90, 366.70, 300.60, 237.80, 121.40, 31.40, 203.50, 441.10, 323.00, 52.50])\n",
    "temp_data = np.array([40,27,40,73,64,34,9,8,23,63,65,41,21,38,58])\n",
    "insulation_data = np.array([3,3,10,6,6,6,6,10,10,3,10,6,3,3,10])\n",
    "\n",
    "\n",
    "data = pd.DataFrame({\n",
    "    'oil': oil_data,\n",
    "    'temp': temp_data,\n",
    "    'insulation': insulation_data\n",
    "})\n",
    "data"
   ]
  },
  {
   "cell_type": "markdown",
   "id": "e9ed207e",
   "metadata": {},
   "source": [
    "#### Preliminary Conclusions"
   ]
  },
  {
   "cell_type": "markdown",
   "id": "747c1ad3",
   "metadata": {},
   "source": [
    "**Oil Consumption vs. Temperature**:\n",
    "    - Higher temperatures (`temp`) might correlate with lower oil consumption (`oil`), as less heating is required in warmer conditions.\n",
    "    - Conversely, lower temperatures might lead to higher oil consumption.\n"
   ]
  },
  {
   "cell_type": "markdown",
   "id": "e8538ce5",
   "metadata": {},
   "source": [
    "#### Model"
   ]
  },
  {
   "cell_type": "code",
   "execution_count": 3,
   "id": "8d045c62",
   "metadata": {},
   "outputs": [
    {
     "name": "stdout",
     "output_type": "stream",
     "text": [
      "Expected heating oil consumption: 280.48 gallons\n"
     ]
    },
    {
     "name": "stderr",
     "output_type": "stream",
     "text": [
      "/home/arnold/Desktop/ML_1/.venv/lib/python3.13/site-packages/sklearn/utils/validation.py:2739: UserWarning: X does not have valid feature names, but LinearRegression was fitted with feature names\n",
      "  warnings.warn(\n"
     ]
    }
   ],
   "source": [
    "model = LinearRegression()\n",
    "X = data[['temp', 'insulation']]\n",
    "y = data['oil']\n",
    "model.fit(X, y)\n",
    "prediction = model.predict([[15, 10]])\n",
    "print(f\"Expected heating oil consumption: {round(prediction[0], 2)} gallons\")\n"
   ]
  },
  {
   "cell_type": "markdown",
   "id": "c21fb210",
   "metadata": {},
   "source": [
    "## Classwork Question 2"
   ]
  },
  {
   "cell_type": "markdown",
   "id": "7442c138",
   "metadata": {},
   "source": [
    "![Qn2](classwork2.png)"
   ]
  },
  {
   "cell_type": "code",
   "execution_count": 4,
   "id": "b57770a1",
   "metadata": {},
   "outputs": [
    {
     "name": "stdout",
     "output_type": "stream",
     "text": [
      "   length  success  failure\n",
      "0       3       84       17\n",
      "1       4       88       31\n",
      "2       5       61       47\n",
      "3       6       61       64\n",
      "\n",
      "0    0.831683\n",
      "1    0.739496\n",
      "2    0.564815\n",
      "3    0.488000\n",
      "Name: proportion, dtype: float64\n",
      "\n",
      "0    1\n",
      "1    1\n",
      "2    1\n",
      "3    0\n",
      "Name: proportion, dtype: int64\n",
      "\n",
      "Predicted probability of success for a putt of length 7: 0.32\n"
     ]
    },
    {
     "name": "stderr",
     "output_type": "stream",
     "text": [
      "/home/arnold/Desktop/ML_1/.venv/lib/python3.13/site-packages/sklearn/utils/validation.py:2739: UserWarning: X does not have valid feature names, but LogisticRegression was fitted with feature names\n",
      "  warnings.warn(\n"
     ]
    }
   ],
   "source": [
    "from sklearn.linear_model import LogisticRegression\n",
    "\n",
    "length = np.array([3,4,5,6])\n",
    "success = np.array([84,88,61,61])\n",
    "failure = np.array([17,31,47,64])\n",
    "\n",
    "data2 = pd.DataFrame({\n",
    "    'length': length,\n",
    "    'success': success,\n",
    "    'failure': failure\n",
    "})\n",
    "print(data2)\n",
    "print()\n",
    "\n",
    "# Calculate the proportion of successful putts\n",
    "data2['proportion'] = data2['success'] / (data2['success'] + data2['failure'])\n",
    "\n",
    "X2 = data2[['length']]\n",
    "y2 = data2['proportion']\n",
    "print(y2)\n",
    "print()\n",
    "\n",
    "y2_binary = (y2 > 0.5).astype(int)\n",
    "print(y2_binary)\n",
    "print()\n",
    "\n",
    "# Fit the logistic regression model\n",
    "logistic_model = LogisticRegression()\n",
    "logistic_model.fit(X2, y2_binary)\n",
    "\n",
    "# Predict the probability of success for a putt of length 7\n",
    "length_to_predict = np.array([[7]])\n",
    "predicted_proba = logistic_model.predict_proba(length_to_predict)\n",
    "print(f\"Predicted probability of success for a putt of length 7: {round(predicted_proba[0][1],2)}\")\n",
    "\n",
    "\n"
   ]
  }
 ],
 "metadata": {
  "kernelspec": {
   "display_name": ".venv",
   "language": "python",
   "name": "python3"
  },
  "language_info": {
   "codemirror_mode": {
    "name": "ipython",
    "version": 3
   },
   "file_extension": ".py",
   "mimetype": "text/x-python",
   "name": "python",
   "nbconvert_exporter": "python",
   "pygments_lexer": "ipython3",
   "version": "3.13.3"
  }
 },
 "nbformat": 4,
 "nbformat_minor": 5
}
